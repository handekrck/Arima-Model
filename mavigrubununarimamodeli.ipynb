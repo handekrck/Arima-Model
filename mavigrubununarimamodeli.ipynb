{
 "cells": [
  {
   "cell_type": "code",
   "execution_count": 2,
   "metadata": {},
   "outputs": [],
   "source": [
    "import pandas as pd\n",
    "import numpy as np\n",
    "import matplotlib.pyplot as plt\n",
    "from matplotlib import pyplot\n",
    "%matplotlib inline\n",
    "import warnings\n",
    "warnings.filterwarnings('ignore')"
   ]
  },
  {
   "cell_type": "code",
   "execution_count": 3,
   "metadata": {},
   "outputs": [
    {
     "data": {
      "text/html": [
       "<div>\n",
       "<style scoped>\n",
       "    .dataframe tbody tr th:only-of-type {\n",
       "        vertical-align: middle;\n",
       "    }\n",
       "\n",
       "    .dataframe tbody tr th {\n",
       "        vertical-align: top;\n",
       "    }\n",
       "\n",
       "    .dataframe thead th {\n",
       "        text-align: right;\n",
       "    }\n",
       "</style>\n",
       "<table border=\"1\" class=\"dataframe\">\n",
       "  <thead>\n",
       "    <tr style=\"text-align: right;\">\n",
       "      <th></th>\n",
       "      <th>2007</th>\n",
       "      <th>2008</th>\n",
       "      <th>2009</th>\n",
       "      <th>2010</th>\n",
       "      <th>2011</th>\n",
       "      <th>2012</th>\n",
       "      <th>2013</th>\n",
       "      <th>2014</th>\n",
       "      <th>2015</th>\n",
       "      <th>2016</th>\n",
       "      <th>2017</th>\n",
       "      <th>2018</th>\n",
       "    </tr>\n",
       "    <tr>\n",
       "      <th>GEO (Labels)</th>\n",
       "      <th></th>\n",
       "      <th></th>\n",
       "      <th></th>\n",
       "      <th></th>\n",
       "      <th></th>\n",
       "      <th></th>\n",
       "      <th></th>\n",
       "      <th></th>\n",
       "      <th></th>\n",
       "      <th></th>\n",
       "      <th></th>\n",
       "      <th></th>\n",
       "    </tr>\n",
       "  </thead>\n",
       "  <tbody>\n",
       "    <tr>\n",
       "      <th>Belgium</th>\n",
       "      <td>290.50</td>\n",
       "      <td>292.07</td>\n",
       "      <td>292.48</td>\n",
       "      <td>291.34</td>\n",
       "      <td>291.55</td>\n",
       "      <td>293.36</td>\n",
       "      <td>295.71</td>\n",
       "      <td>297.55</td>\n",
       "      <td>301.75</td>\n",
       "      <td>307.41</td>\n",
       "      <td>308.29</td>\n",
       "      <td>312.96</td>\n",
       "    </tr>\n",
       "    <tr>\n",
       "      <th>Bulgaria</th>\n",
       "      <td>369.53</td>\n",
       "      <td>366.42</td>\n",
       "      <td>375.47</td>\n",
       "      <td>378.10</td>\n",
       "      <td>386.26</td>\n",
       "      <td>391.45</td>\n",
       "      <td>397.67</td>\n",
       "      <td>398.69</td>\n",
       "      <td>404.54</td>\n",
       "      <td>413.76</td>\n",
       "      <td>424.49</td>\n",
       "      <td>421.71</td>\n",
       "    </tr>\n",
       "    <tr>\n",
       "      <th>Czechia</th>\n",
       "      <td>357.47</td>\n",
       "      <td>355.54</td>\n",
       "      <td>357.63</td>\n",
       "      <td>359.55</td>\n",
       "      <td>363.67</td>\n",
       "      <td>367.47</td>\n",
       "      <td>368.79</td>\n",
       "      <td>NaN</td>\n",
       "      <td>NaN</td>\n",
       "      <td>NaN</td>\n",
       "      <td>NaN</td>\n",
       "      <td>403.76</td>\n",
       "    </tr>\n",
       "    <tr>\n",
       "      <th>Denmark</th>\n",
       "      <td>345.81</td>\n",
       "      <td>357.94</td>\n",
       "      <td>365.12</td>\n",
       "      <td>372.59</td>\n",
       "      <td>378.92</td>\n",
       "      <td>383.76</td>\n",
       "      <td>384.94</td>\n",
       "      <td>387.74</td>\n",
       "      <td>392.93</td>\n",
       "      <td>399.82</td>\n",
       "      <td>410.89</td>\n",
       "      <td>419.44</td>\n",
       "    </tr>\n",
       "    <tr>\n",
       "      <th>Germany (until 1990 former territory of the FRG)</th>\n",
       "      <td>348.63</td>\n",
       "      <td>354.06</td>\n",
       "      <td>361.89</td>\n",
       "      <td>374.81</td>\n",
       "      <td>387.70</td>\n",
       "      <td>394.64</td>\n",
       "      <td>403.50</td>\n",
       "      <td>410.82</td>\n",
       "      <td>413.93</td>\n",
       "      <td>418.65</td>\n",
       "      <td>424.88</td>\n",
       "      <td>431.09</td>\n",
       "    </tr>\n",
       "  </tbody>\n",
       "</table>\n",
       "</div>"
      ],
      "text/plain": [
       "                                                    2007    2008    2009  \\\n",
       "GEO (Labels)                                                               \n",
       "Belgium                                           290.50  292.07  292.48   \n",
       "Bulgaria                                          369.53  366.42  375.47   \n",
       "Czechia                                           357.47  355.54  357.63   \n",
       "Denmark                                           345.81  357.94  365.12   \n",
       "Germany (until 1990 former territory of the FRG)  348.63  354.06  361.89   \n",
       "\n",
       "                                                    2010    2011    2012  \\\n",
       "GEO (Labels)                                                               \n",
       "Belgium                                           291.34  291.55  293.36   \n",
       "Bulgaria                                          378.10  386.26  391.45   \n",
       "Czechia                                           359.55  363.67  367.47   \n",
       "Denmark                                           372.59  378.92  383.76   \n",
       "Germany (until 1990 former territory of the FRG)  374.81  387.70  394.64   \n",
       "\n",
       "                                                    2013    2014    2015  \\\n",
       "GEO (Labels)                                                               \n",
       "Belgium                                           295.71  297.55  301.75   \n",
       "Bulgaria                                          397.67  398.69  404.54   \n",
       "Czechia                                           368.79     NaN     NaN   \n",
       "Denmark                                           384.94  387.74  392.93   \n",
       "Germany (until 1990 former territory of the FRG)  403.50  410.82  413.93   \n",
       "\n",
       "                                                    2016    2017    2018  \n",
       "GEO (Labels)                                                              \n",
       "Belgium                                           307.41  308.29  312.96  \n",
       "Bulgaria                                          413.76  424.49  421.71  \n",
       "Czechia                                              NaN     NaN  403.76  \n",
       "Denmark                                           399.82  410.89  419.44  \n",
       "Germany (until 1990 former territory of the FRG)  418.65  424.88  431.09  "
      ]
     },
     "execution_count": 3,
     "metadata": {},
     "output_type": "execute_result"
    }
   ],
   "source": [
    "df = pd.read_excel(\"timeseries.xlsx\")\n",
    "df = df.set_index(\"GEO (Labels)\")\n",
    "df.shape # 37x12 = 444 --> N\n",
    "df.head()"
   ]
  },
  {
   "cell_type": "code",
   "execution_count": 4,
   "metadata": {},
   "outputs": [],
   "source": [
    "df.isnull().sum().sum() # 99 nan varsa N = 444-99 = 345\n",
    "pop = 345"
   ]
  },
  {
   "cell_type": "code",
   "execution_count": 5,
   "metadata": {},
   "outputs": [
    {
     "data": {
      "text/html": [
       "<div>\n",
       "<style scoped>\n",
       "    .dataframe tbody tr th:only-of-type {\n",
       "        vertical-align: middle;\n",
       "    }\n",
       "\n",
       "    .dataframe tbody tr th {\n",
       "        vertical-align: top;\n",
       "    }\n",
       "\n",
       "    .dataframe thead th {\n",
       "        text-align: right;\n",
       "    }\n",
       "</style>\n",
       "<table border=\"1\" class=\"dataframe\">\n",
       "  <thead>\n",
       "    <tr style=\"text-align: right;\">\n",
       "      <th></th>\n",
       "      <th>2007</th>\n",
       "      <th>2008</th>\n",
       "      <th>2009</th>\n",
       "      <th>2010</th>\n",
       "      <th>2011</th>\n",
       "      <th>2012</th>\n",
       "      <th>2013</th>\n",
       "      <th>2014</th>\n",
       "      <th>2015</th>\n",
       "      <th>2016</th>\n",
       "      <th>2017</th>\n",
       "      <th>2018</th>\n",
       "    </tr>\n",
       "  </thead>\n",
       "  <tbody>\n",
       "    <tr>\n",
       "      <th>count</th>\n",
       "      <td>28.000000</td>\n",
       "      <td>27.000000</td>\n",
       "      <td>29.000000</td>\n",
       "      <td>29.000000</td>\n",
       "      <td>30.000000</td>\n",
       "      <td>30.000000</td>\n",
       "      <td>30.000000</td>\n",
       "      <td>29.000000</td>\n",
       "      <td>28.000000</td>\n",
       "      <td>29.000000</td>\n",
       "      <td>29.000000</td>\n",
       "      <td>27.000000</td>\n",
       "    </tr>\n",
       "    <tr>\n",
       "      <th>mean</th>\n",
       "      <td>305.800714</td>\n",
       "      <td>317.599259</td>\n",
       "      <td>312.637931</td>\n",
       "      <td>317.460690</td>\n",
       "      <td>320.879667</td>\n",
       "      <td>326.057667</td>\n",
       "      <td>331.740667</td>\n",
       "      <td>344.245172</td>\n",
       "      <td>349.477143</td>\n",
       "      <td>354.922759</td>\n",
       "      <td>362.216552</td>\n",
       "      <td>373.644444</td>\n",
       "    </tr>\n",
       "    <tr>\n",
       "      <th>std</th>\n",
       "      <td>73.838985</td>\n",
       "      <td>64.662468</td>\n",
       "      <td>72.651263</td>\n",
       "      <td>73.511294</td>\n",
       "      <td>74.711789</td>\n",
       "      <td>74.981785</td>\n",
       "      <td>76.058535</td>\n",
       "      <td>65.554110</td>\n",
       "      <td>65.984802</td>\n",
       "      <td>65.486793</td>\n",
       "      <td>66.693354</td>\n",
       "      <td>62.701895</td>\n",
       "    </tr>\n",
       "    <tr>\n",
       "      <th>min</th>\n",
       "      <td>122.090000</td>\n",
       "      <td>209.780000</td>\n",
       "      <td>124.880000</td>\n",
       "      <td>124.960000</td>\n",
       "      <td>123.160000</td>\n",
       "      <td>127.430000</td>\n",
       "      <td>128.110000</td>\n",
       "      <td>217.110000</td>\n",
       "      <td>232.810000</td>\n",
       "      <td>241.580000</td>\n",
       "      <td>237.750000</td>\n",
       "      <td>276.410000</td>\n",
       "    </tr>\n",
       "    <tr>\n",
       "      <th>25%</th>\n",
       "      <td>263.297500</td>\n",
       "      <td>271.805000</td>\n",
       "      <td>270.400000</td>\n",
       "      <td>286.380000</td>\n",
       "      <td>281.245000</td>\n",
       "      <td>283.812500</td>\n",
       "      <td>286.215000</td>\n",
       "      <td>301.200000</td>\n",
       "      <td>307.727500</td>\n",
       "      <td>307.410000</td>\n",
       "      <td>310.110000</td>\n",
       "      <td>322.875000</td>\n",
       "    </tr>\n",
       "    <tr>\n",
       "      <th>50%</th>\n",
       "      <td>310.860000</td>\n",
       "      <td>323.330000</td>\n",
       "      <td>304.740000</td>\n",
       "      <td>308.560000</td>\n",
       "      <td>310.205000</td>\n",
       "      <td>315.425000</td>\n",
       "      <td>322.690000</td>\n",
       "      <td>335.880000</td>\n",
       "      <td>345.315000</td>\n",
       "      <td>345.650000</td>\n",
       "      <td>360.330000</td>\n",
       "      <td>366.960000</td>\n",
       "    </tr>\n",
       "    <tr>\n",
       "      <th>75%</th>\n",
       "      <td>361.705000</td>\n",
       "      <td>365.305000</td>\n",
       "      <td>365.120000</td>\n",
       "      <td>375.790000</td>\n",
       "      <td>383.460000</td>\n",
       "      <td>386.445000</td>\n",
       "      <td>388.742500</td>\n",
       "      <td>388.040000</td>\n",
       "      <td>395.832500</td>\n",
       "      <td>399.820000</td>\n",
       "      <td>410.890000</td>\n",
       "      <td>413.380000</td>\n",
       "    </tr>\n",
       "    <tr>\n",
       "      <th>max</th>\n",
       "      <td>453.780000</td>\n",
       "      <td>460.410000</td>\n",
       "      <td>468.910000</td>\n",
       "      <td>479.530000</td>\n",
       "      <td>484.220000</td>\n",
       "      <td>489.540000</td>\n",
       "      <td>498.850000</td>\n",
       "      <td>504.610000</td>\n",
       "      <td>509.120000</td>\n",
       "      <td>512.960000</td>\n",
       "      <td>518.280000</td>\n",
       "      <td>524.140000</td>\n",
       "    </tr>\n",
       "  </tbody>\n",
       "</table>\n",
       "</div>"
      ],
      "text/plain": [
       "             2007        2008        2009        2010        2011        2012  \\\n",
       "count   28.000000   27.000000   29.000000   29.000000   30.000000   30.000000   \n",
       "mean   305.800714  317.599259  312.637931  317.460690  320.879667  326.057667   \n",
       "std     73.838985   64.662468   72.651263   73.511294   74.711789   74.981785   \n",
       "min    122.090000  209.780000  124.880000  124.960000  123.160000  127.430000   \n",
       "25%    263.297500  271.805000  270.400000  286.380000  281.245000  283.812500   \n",
       "50%    310.860000  323.330000  304.740000  308.560000  310.205000  315.425000   \n",
       "75%    361.705000  365.305000  365.120000  375.790000  383.460000  386.445000   \n",
       "max    453.780000  460.410000  468.910000  479.530000  484.220000  489.540000   \n",
       "\n",
       "             2013        2014        2015        2016        2017        2018  \n",
       "count   30.000000   29.000000   28.000000   29.000000   29.000000   27.000000  \n",
       "mean   331.740667  344.245172  349.477143  354.922759  362.216552  373.644444  \n",
       "std     76.058535   65.554110   65.984802   65.486793   66.693354   62.701895  \n",
       "min    128.110000  217.110000  232.810000  241.580000  237.750000  276.410000  \n",
       "25%    286.215000  301.200000  307.727500  307.410000  310.110000  322.875000  \n",
       "50%    322.690000  335.880000  345.315000  345.650000  360.330000  366.960000  \n",
       "75%    388.742500  388.040000  395.832500  399.820000  410.890000  413.380000  \n",
       "max    498.850000  504.610000  509.120000  512.960000  518.280000  524.140000  "
      ]
     },
     "execution_count": 5,
     "metadata": {},
     "output_type": "execute_result"
    }
   ],
   "source": [
    "a = df.describe()\n",
    "a"
   ]
  },
  {
   "cell_type": "code",
   "execution_count": 6,
   "metadata": {},
   "outputs": [
    {
     "data": {
      "text/plain": [
       "334.7235553579031"
      ]
     },
     "execution_count": 6,
     "metadata": {},
     "output_type": "execute_result"
    }
   ],
   "source": [
    "pop_list = a.iloc[1]\n",
    "pop_mean_value = pop_list.mean()\n",
    "pop_mean_value"
   ]
  },
  {
   "cell_type": "code",
   "execution_count": 7,
   "metadata": {},
   "outputs": [
    {
     "data": {
      "text/html": [
       "<div>\n",
       "<style scoped>\n",
       "    .dataframe tbody tr th:only-of-type {\n",
       "        vertical-align: middle;\n",
       "    }\n",
       "\n",
       "    .dataframe tbody tr th {\n",
       "        vertical-align: top;\n",
       "    }\n",
       "\n",
       "    .dataframe thead th {\n",
       "        text-align: right;\n",
       "    }\n",
       "</style>\n",
       "<table border=\"1\" class=\"dataframe\">\n",
       "  <thead>\n",
       "    <tr style=\"text-align: right;\">\n",
       "      <th></th>\n",
       "      <th>mean</th>\n",
       "    </tr>\n",
       "  </thead>\n",
       "  <tbody>\n",
       "    <tr>\n",
       "      <th>2007</th>\n",
       "      <td>305.800714</td>\n",
       "    </tr>\n",
       "    <tr>\n",
       "      <th>2008</th>\n",
       "      <td>317.599259</td>\n",
       "    </tr>\n",
       "    <tr>\n",
       "      <th>2009</th>\n",
       "      <td>312.637931</td>\n",
       "    </tr>\n",
       "    <tr>\n",
       "      <th>2010</th>\n",
       "      <td>317.460690</td>\n",
       "    </tr>\n",
       "    <tr>\n",
       "      <th>2011</th>\n",
       "      <td>320.879667</td>\n",
       "    </tr>\n",
       "    <tr>\n",
       "      <th>2012</th>\n",
       "      <td>326.057667</td>\n",
       "    </tr>\n",
       "    <tr>\n",
       "      <th>2013</th>\n",
       "      <td>331.740667</td>\n",
       "    </tr>\n",
       "    <tr>\n",
       "      <th>2014</th>\n",
       "      <td>344.245172</td>\n",
       "    </tr>\n",
       "    <tr>\n",
       "      <th>2015</th>\n",
       "      <td>349.477143</td>\n",
       "    </tr>\n",
       "    <tr>\n",
       "      <th>2016</th>\n",
       "      <td>354.922759</td>\n",
       "    </tr>\n",
       "    <tr>\n",
       "      <th>2017</th>\n",
       "      <td>362.216552</td>\n",
       "    </tr>\n",
       "    <tr>\n",
       "      <th>2018</th>\n",
       "      <td>373.644444</td>\n",
       "    </tr>\n",
       "  </tbody>\n",
       "</table>\n",
       "</div>"
      ],
      "text/plain": [
       "            mean\n",
       "2007  305.800714\n",
       "2008  317.599259\n",
       "2009  312.637931\n",
       "2010  317.460690\n",
       "2011  320.879667\n",
       "2012  326.057667\n",
       "2013  331.740667\n",
       "2014  344.245172\n",
       "2015  349.477143\n",
       "2016  354.922759\n",
       "2017  362.216552\n",
       "2018  373.644444"
      ]
     },
     "execution_count": 7,
     "metadata": {},
     "output_type": "execute_result"
    }
   ],
   "source": [
    "pop_mean = pd.DataFrame(pop_list)\n",
    "pop_mean"
   ]
  },
  {
   "cell_type": "code",
   "execution_count": 8,
   "metadata": {},
   "outputs": [
    {
     "data": {
      "text/plain": [
       "2007    305.800714\n",
       "2008    317.599259\n",
       "2009    312.637931\n",
       "2010    317.460690\n",
       "2011    320.879667\n",
       "2012    326.057667\n",
       "2013    331.740667\n",
       "2014    344.245172\n",
       "2015    349.477143\n",
       "2016    354.922759\n",
       "2017    362.216552\n",
       "2018    373.644444\n",
       "Name: mean, dtype: float64"
      ]
     },
     "execution_count": 8,
     "metadata": {},
     "output_type": "execute_result"
    }
   ],
   "source": [
    "ts = pop_mean[\"mean\"]\n",
    "ts"
   ]
  },
  {
   "cell_type": "code",
   "execution_count": 9,
   "metadata": {},
   "outputs": [
    {
     "data": {
      "text/plain": [
       "[<matplotlib.lines.Line2D at 0x225ed581a30>]"
      ]
     },
     "execution_count": 9,
     "metadata": {},
     "output_type": "execute_result"
    },
    {
     "data": {
      "image/png": "[encoded data removed]",
      "text/plain": [
       "<Figure size 432x288 with 1 Axes>"
      ]
     },
     "metadata": {
      "needs_background": "light"
     },
     "output_type": "display_data"
    }
   ],
   "source": [
    "plt.plot(ts)"
   ]
  },
  {
   "cell_type": "code",
   "execution_count": 11,
   "metadata": {},
   "outputs": [
    {
     "data": {
      "image/png": "[encoded data removed]",
      "text/plain": [
       "<Figure size 432x288 with 2 Axes>"
      ]
     },
     "metadata": {
      "needs_background": "light"
     },
     "output_type": "display_data"
    }
   ],
   "source": [
    "from statsmodels.tsa.stattools import acf, pacf\n",
    "lag_acf = acf(ts, nlags=5)\n",
    "lag_pacf = pacf(ts, nlags=5, method='ols')\n",
    "\n",
    "#lag sayısı örneklem sayısısının yarısından daha az olmalı. bu sebeple nlags < 6 seçilmelidir.\n",
    "\n",
    "plt.subplot(121) \n",
    "plt.plot(lag_acf)\n",
    "plt.axhline(y=0,linestyle='--',color='gray')\n",
    "plt.axhline(y=-1.96/np.sqrt(len(ts)),linestyle='--',color='gray')\n",
    "plt.axhline(y=1.96/np.sqrt(len(ts)),linestyle='--',color='gray')\n",
    "plt.title('Autocorrelation Function')\n",
    "\n",
    "plt.subplot(122)\n",
    "plt.plot(lag_pacf)\n",
    "plt.axhline(y=0,linestyle='--',color='gray')\n",
    "plt.axhline(y=-1.96/np.sqrt(len(ts)),linestyle='--',color='gray')\n",
    "plt.axhline(y=1.96/np.sqrt(len(ts)),linestyle='--',color='gray')\n",
    "plt.title('Partial Autocorrelation Function')\n",
    "plt.tight_layout()"
   ]
  },
  {
   "cell_type": "code",
   "execution_count": 12,
   "metadata": {},
   "outputs": [
    {
     "data": {
      "text/plain": [
       "(0.8598822759360281,\n",
       " 0.9925437965367077,\n",
       " 0,\n",
       " 11,\n",
       " {'1%': -4.223238279489106,\n",
       "  '5%': -3.189368925619835,\n",
       "  '10%': -2.729839421487603},\n",
       " 38.135832408150705)"
      ]
     },
     "execution_count": 12,
     "metadata": {},
     "output_type": "execute_result"
    }
   ],
   "source": [
    "from statsmodels.tsa.stattools import adfuller\n",
    "ts_result = adfuller(ts)\n",
    "ts_result"
   ]
  },
  {
   "cell_type": "code",
   "execution_count": 13,
   "metadata": {},
   "outputs": [
    {
     "data": {
      "text/plain": [
       "2008    11.798545\n",
       "2009    -4.961328\n",
       "2010     4.822759\n",
       "2011     3.418977\n",
       "2012     5.178000\n",
       "2013     5.683000\n",
       "2014    12.504506\n",
       "2015     5.231970\n",
       "2016     5.445616\n",
       "2017     7.293793\n",
       "2018    11.427893\n",
       "Name: mean, dtype: float64"
      ]
     },
     "execution_count": 13,
     "metadata": {},
     "output_type": "execute_result"
    }
   ],
   "source": [
    "ts_diff = ts.diff().dropna()\n",
    "ts_diff"
   ]
  },
  {
   "cell_type": "code",
   "execution_count": 14,
   "metadata": {},
   "outputs": [
    {
     "data": {
      "text/plain": [
       "(-3.607875796029404,\n",
       " 0.005612232283576957,\n",
       " 0,\n",
       " 10,\n",
       " {'1%': -4.331573, '5%': -3.23295, '10%': -2.7487},\n",
       " 38.723435626163464)"
      ]
     },
     "execution_count": 14,
     "metadata": {},
     "output_type": "execute_result"
    }
   ],
   "source": [
    "ts_diff_result = adfuller(ts_diff)\n",
    "ts_diff_result"
   ]
  },
  {
   "cell_type": "code",
   "execution_count": 15,
   "metadata": {},
   "outputs": [
    {
     "data": {
      "text/plain": [
       "[<matplotlib.lines.Line2D at 0x225eff10670>]"
      ]
     },
     "execution_count": 15,
     "metadata": {},
     "output_type": "execute_result"
    },
    {
     "data": {
      "image/png": "[encoded data removed]",
      "text/plain": [
       "<Figure size 432x288 with 1 Axes>"
      ]
     },
     "metadata": {
      "needs_background": "light"
     },
     "output_type": "display_data"
    }
   ],
   "source": [
    "plt.plot(ts_diff)"
   ]
  },
  {
   "cell_type": "code",
   "execution_count": 16,
   "metadata": {},
   "outputs": [
    {
     "name": "stdout",
     "output_type": "stream",
     "text": [
      "                              ARMA Model Results                              \n",
      "==============================================================================\n",
      "Dep. Variable:                      y   No. Observations:                   10\n",
      "Model:                     ARMA(0, 4)   Log Likelihood                 -27.442\n",
      "Method:                       css-mle   S.D. of innovations              2.872\n",
      "Date:                Sat, 29 May 2021   AIC                             66.885\n",
      "Time:                        22:19:54   BIC                             68.700\n",
      "Sample:                             0   HQIC                            64.893\n",
      "                                                                              \n",
      "==============================================================================\n",
      "                 coef    std err          z      P>|z|      [0.025      0.975]\n",
      "------------------------------------------------------------------------------\n",
      "const          4.8800      3.257      1.499      0.134      -1.503      11.263\n",
      "ma.L1.y        0.6815      0.504      1.351      0.177      -0.307       1.670\n",
      "ma.L2.y        0.7549      0.462      1.633      0.102      -0.151       1.661\n",
      "ma.L3.y        0.6807      0.915      0.744      0.457      -1.113       2.474\n",
      "ma.L4.y        0.9994      0.879      1.136      0.256      -0.724       2.723\n",
      "                                    Roots                                    \n",
      "=============================================================================\n",
      "                  Real          Imaginary           Modulus         Frequency\n",
      "-----------------------------------------------------------------------------\n",
      "MA.1            0.4131           -0.9110j            1.0003           -0.1822\n",
      "MA.2            0.4131           +0.9110j            1.0003            0.1822\n",
      "MA.3           -0.7536           -0.6573j            1.0000           -0.3858\n",
      "MA.4           -0.7536           +0.6573j            1.0000            0.3858\n",
      "-----------------------------------------------------------------------------\n"
     ]
    },
    {
     "data": {
      "image/png": "[encoded data removed]",
      "text/plain": [
       "<Figure size 1152x432 with 1 Axes>"
      ]
     },
     "metadata": {
      "needs_background": "light"
     },
     "output_type": "display_data"
    }
   ],
   "source": [
    "from statsmodels.tsa.arima_model import ARIMA\n",
    "from pylab import rcParams\n",
    "rcParams['figure.figsize'] = 16, 6\n",
    "model = ARIMA(ts_diff.iloc[1:].values, order=(0,0,4))\n",
    "result = model.fit()\n",
    "print(result.summary())\n",
    "result.plot_predict(start=0, end=11)\n",
    "plt.show()"
   ]
  },
  {
   "cell_type": "code",
   "execution_count": 18,
   "metadata": {},
   "outputs": [
    {
     "data": {
      "text/html": [
       "<div>\n",
       "<style scoped>\n",
       "    .dataframe tbody tr th:only-of-type {\n",
       "        vertical-align: middle;\n",
       "    }\n",
       "\n",
       "    .dataframe tbody tr th {\n",
       "        vertical-align: top;\n",
       "    }\n",
       "\n",
       "    .dataframe thead th {\n",
       "        text-align: right;\n",
       "    }\n",
       "</style>\n",
       "<table border=\"1\" class=\"dataframe\">\n",
       "  <thead>\n",
       "    <tr style=\"text-align: right;\">\n",
       "      <th></th>\n",
       "      <th>ortalama</th>\n",
       "    </tr>\n",
       "    <tr>\n",
       "      <th>yıl</th>\n",
       "      <th></th>\n",
       "    </tr>\n",
       "  </thead>\n",
       "  <tbody>\n",
       "    <tr>\n",
       "      <th>2007</th>\n",
       "      <td>305.800714</td>\n",
       "    </tr>\n",
       "    <tr>\n",
       "      <th>2008</th>\n",
       "      <td>317.599259</td>\n",
       "    </tr>\n",
       "    <tr>\n",
       "      <th>2009</th>\n",
       "      <td>312.637931</td>\n",
       "    </tr>\n",
       "    <tr>\n",
       "      <th>2010</th>\n",
       "      <td>317.460690</td>\n",
       "    </tr>\n",
       "    <tr>\n",
       "      <th>2011</th>\n",
       "      <td>320.879667</td>\n",
       "    </tr>\n",
       "    <tr>\n",
       "      <th>2012</th>\n",
       "      <td>326.057667</td>\n",
       "    </tr>\n",
       "    <tr>\n",
       "      <th>2013</th>\n",
       "      <td>331.740667</td>\n",
       "    </tr>\n",
       "    <tr>\n",
       "      <th>2014</th>\n",
       "      <td>344.245172</td>\n",
       "    </tr>\n",
       "    <tr>\n",
       "      <th>2015</th>\n",
       "      <td>349.477143</td>\n",
       "    </tr>\n",
       "    <tr>\n",
       "      <th>2016</th>\n",
       "      <td>354.922759</td>\n",
       "    </tr>\n",
       "    <tr>\n",
       "      <th>2017</th>\n",
       "      <td>362.216552</td>\n",
       "    </tr>\n",
       "    <tr>\n",
       "      <th>2018</th>\n",
       "      <td>373.644444</td>\n",
       "    </tr>\n",
       "  </tbody>\n",
       "</table>\n",
       "</div>"
      ],
      "text/plain": [
       "        ortalama\n",
       "yıl             \n",
       "2007  305.800714\n",
       "2008  317.599259\n",
       "2009  312.637931\n",
       "2010  317.460690\n",
       "2011  320.879667\n",
       "2012  326.057667\n",
       "2013  331.740667\n",
       "2014  344.245172\n",
       "2015  349.477143\n",
       "2016  354.922759\n",
       "2017  362.216552\n",
       "2018  373.644444"
      ]
     },
     "execution_count": 18,
     "metadata": {},
     "output_type": "execute_result"
    }
   ],
   "source": [
    "pd1 = pd.DataFrame({\"yıl\":[2007, 2008,2009,2010,2011,2012,2013,2014,2015,2016,2017,2018],\n",
    "                     \"ortalama\":[305.800714, 317.599259, 312.637931, 317.460690, 320.879667, 326.057667, 331.740667, 344.245172, 349.477143,354.922759, 362.216552, 373.644444]})\n",
    "pd1 = pd1.set_index(\"yıl\")\n",
    "pd1"
   ]
  },
  {
   "cell_type": "code",
   "execution_count": 19,
   "metadata": {},
   "outputs": [
    {
     "data": {
      "text/html": [
       "<div>\n",
       "<style scoped>\n",
       "    .dataframe tbody tr th:only-of-type {\n",
       "        vertical-align: middle;\n",
       "    }\n",
       "\n",
       "    .dataframe tbody tr th {\n",
       "        vertical-align: top;\n",
       "    }\n",
       "\n",
       "    .dataframe thead th {\n",
       "        text-align: right;\n",
       "    }\n",
       "</style>\n",
       "<table border=\"1\" class=\"dataframe\">\n",
       "  <thead>\n",
       "    <tr style=\"text-align: right;\">\n",
       "      <th></th>\n",
       "      <th>ortalama</th>\n",
       "    </tr>\n",
       "    <tr>\n",
       "      <th>yıl</th>\n",
       "      <th></th>\n",
       "    </tr>\n",
       "  </thead>\n",
       "  <tbody>\n",
       "    <tr>\n",
       "      <th>2007</th>\n",
       "      <td>305.800714</td>\n",
       "    </tr>\n",
       "    <tr>\n",
       "      <th>2008</th>\n",
       "      <td>317.599259</td>\n",
       "    </tr>\n",
       "    <tr>\n",
       "      <th>2009</th>\n",
       "      <td>312.637931</td>\n",
       "    </tr>\n",
       "    <tr>\n",
       "      <th>2010</th>\n",
       "      <td>317.460690</td>\n",
       "    </tr>\n",
       "    <tr>\n",
       "      <th>2011</th>\n",
       "      <td>320.879667</td>\n",
       "    </tr>\n",
       "    <tr>\n",
       "      <th>2012</th>\n",
       "      <td>326.057667</td>\n",
       "    </tr>\n",
       "    <tr>\n",
       "      <th>2013</th>\n",
       "      <td>331.740667</td>\n",
       "    </tr>\n",
       "    <tr>\n",
       "      <th>2014</th>\n",
       "      <td>344.245172</td>\n",
       "    </tr>\n",
       "    <tr>\n",
       "      <th>2015</th>\n",
       "      <td>349.477143</td>\n",
       "    </tr>\n",
       "    <tr>\n",
       "      <th>2016</th>\n",
       "      <td>354.922759</td>\n",
       "    </tr>\n",
       "    <tr>\n",
       "      <th>2017</th>\n",
       "      <td>362.216552</td>\n",
       "    </tr>\n",
       "    <tr>\n",
       "      <th>2018</th>\n",
       "      <td>373.644444</td>\n",
       "    </tr>\n",
       "    <tr>\n",
       "      <th>2019</th>\n",
       "      <td>379.894444</td>\n",
       "    </tr>\n",
       "  </tbody>\n",
       "</table>\n",
       "</div>"
      ],
      "text/plain": [
       "        ortalama\n",
       "yıl             \n",
       "2007  305.800714\n",
       "2008  317.599259\n",
       "2009  312.637931\n",
       "2010  317.460690\n",
       "2011  320.879667\n",
       "2012  326.057667\n",
       "2013  331.740667\n",
       "2014  344.245172\n",
       "2015  349.477143\n",
       "2016  354.922759\n",
       "2017  362.216552\n",
       "2018  373.644444\n",
       "2019  379.894444"
      ]
     },
     "execution_count": 19,
     "metadata": {},
     "output_type": "execute_result"
    }
   ],
   "source": [
    "pd2 = pd.DataFrame({\"yıl\":[2007,2008,2009,2010,2011,2012,2013,2014,2015,2016,2017,2018,2019],\n",
    "                     \"ortalama\":[305.800714, 317.599259, 312.637931, 317.460690, 320.879667, 326.057667, 331.740667, 344.245172, 349.477143,354.922759, 362.216552, 373.644444, 379.894444]})\n",
    "pd2 = pd2.set_index(\"yıl\")\n",
    "pd2"
   ]
  },
  {
   "cell_type": "code",
   "execution_count": 24,
   "metadata": {},
   "outputs": [
    {
     "data": {
      "text/plain": [
       "[<matplotlib.lines.Line2D at 0x225efaaaf40>]"
      ]
     },
     "execution_count": 24,
     "metadata": {},
     "output_type": "execute_result"
    },
    {
     "data": {
      "image/png": "[encoded data removed]",
      "text/plain": [
       "<Figure size 1152x432 with 1 Axes>"
      ]
     },
     "metadata": {
      "needs_background": "light"
     },
     "output_type": "display_data"
    }
   ],
   "source": [
    "plt.plot(pd2, color=\"red\")\n",
    "plt.plot(pd1, color = \"cyan\")"
   ]
  },
  {
   "cell_type": "code",
   "execution_count": null,
   "metadata": {},
   "outputs": [],
   "source": []
  }
 ],
 "metadata": {
  "kernelspec": {
   "display_name": "Python 3",
   "language": "python",
   "name": "python3"
  },
  "language_info": {
   "codemirror_mode": {
    "name": "ipython",
    "version": 3
   },
   "file_extension": ".py",
   "mimetype": "text/x-python",
   "name": "python",
   "nbconvert_exporter": "python",
   "pygments_lexer": "ipython3",
   "version": "3.8.5"
  }
 },
 "nbformat": 4,
 "nbformat_minor": 4
}
